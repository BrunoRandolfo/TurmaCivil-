{
  "nbformat": 4,
  "nbformat_minor": 0,
  "metadata": {
    "colab": {
      "provenance": [],
      "authorship_tag": "ABX9TyP5K62f3IMgwhjG8LhGVxjj",
      "include_colab_link": true
    },
    "kernelspec": {
      "name": "python3",
      "display_name": "Python 3"
    },
    "language_info": {
      "name": "python"
    }
  },
  "cells": [
    {
      "cell_type": "markdown",
      "metadata": {
        "id": "view-in-github",
        "colab_type": "text"
      },
      "source": [
        "<a href=\"https://colab.research.google.com/github/BrunoRandolfo/TurmaCivil-/blob/main/18_09_EXERCICIO_EXTRA.ipynb\" target=\"_parent\"><img src=\"https://colab.research.google.com/assets/colab-badge.svg\" alt=\"Open In Colab\"/></a>"
      ]
    },
    {
      "cell_type": "markdown",
      "source": [
        "EXERCICIO 1 - EXTRA\n"
      ],
      "metadata": {
        "id": "i5gmvNldpDTm"
      }
    },
    {
      "cell_type": "code",
      "execution_count": 4,
      "metadata": {
        "colab": {
          "base_uri": "https://localhost:8080/"
        },
        "id": "hzAgfk96i6X1",
        "outputId": "3206b865-2fa5-4306-d87e-90743bd60d93"
      },
      "outputs": [
        {
          "output_type": "stream",
          "name": "stdout",
          "text": [
            "Digite um número inteiro 5\n",
            "O número 5 não é multiplo de 3.\n"
          ]
        }
      ],
      "source": [
        "# Solicita ao usuário que insira um valor inteiro\n",
        "numero = int(input(\"Digite um número inteiro \"))\n",
        "# Insira uma valor multiplo por 3\n",
        "if numero % 3 == 0:\n",
        "  print(f\"O número {numero} é multiplo de 3.\")\n",
        "else:\n",
        "  print(f\"O número {numero} não é multiplo de 3.\")"
      ]
    },
    {
      "cell_type": "code",
      "source": [],
      "metadata": {
        "id": "8JRfCGAeu858"
      },
      "execution_count": null,
      "outputs": []
    },
    {
      "cell_type": "markdown",
      "source": [],
      "metadata": {
        "id": "IecNVlMqo3uu"
      }
    },
    {
      "cell_type": "markdown",
      "source": [
        " Dadas as notas a e b de um aluno, com pesos\n",
        "respectivamente 2 e 3; pede-se elaborar um programa em Python para calcular e exibir\n",
        "a média ponderada do aluno, verificar e informar, junto ao valor da sua média, se foi\n",
        "aprovado ou não (OBS: Considere aprovado se obtiver média igual ou superior a 5)"
      ],
      "metadata": {
        "id": "LJl7CjJ8pxps"
      }
    },
    {
      "cell_type": "code",
      "source": [
        "a = float(input(\"Digite nota a \"))\n",
        "b = float(input(\"Digite nota b \"))\n",
        "m = (2*a + 3*b)/(2+3)\n",
        "if m>=5:\n",
        "  print(\"Aprovado\")\n",
        "else:\n",
        "   print(\"Reprovado\")"
      ],
      "metadata": {
        "colab": {
          "base_uri": "https://localhost:8080/"
        },
        "id": "zulVJZRqp0Uj",
        "outputId": "3fe9088b-bf52-4da0-f02c-810d3a49d253"
      },
      "execution_count": 24,
      "outputs": [
        {
          "output_type": "stream",
          "name": "stdout",
          "text": [
            "Digite nota a 6\n",
            "Digite nota b 8\n",
            "Aprovado\n"
          ]
        }
      ]
    },
    {
      "cell_type": "markdown",
      "source": [
        "03) Dado o algoritmo a seguir, elabore o código python do programa em questão:\n",
        "Início\n",
        "Leia os três valores: a, b e c.\n",
        "Compare os valores:\n",
        "Se a é menor ou igual a b e a é menor ou igual a c, então\n",
        "a é o menor valor.\n",
        "Caso contrário, se b é menor ou igual a a e b é menor ou igual a c, então\n",
        "b é o menor valor.\n",
        "Caso contrário,\n",
        "c é o menor valor.\n",
        "Exiba o menor valor.\n",
        "Fim\n"
      ],
      "metadata": {
        "id": "Dtgov6l1x0P9"
      }
    },
    {
      "cell_type": "code",
      "source": [
        "a = float(input(\"Digite valor a:\"))\n",
        "b = float(input(\"Digite valor b:\"))\n",
        "c = float(input(\"Digite valor c:\"))\n",
        "if a<=b and a<=c:\n",
        "  print(f\"O menor valor é {a}\")\n",
        "elif b<=a and b<=c:\n",
        "  print(f\"O menor valor é {b}\")\n",
        "else:\n",
        "  print(f\"O menor valor é {c}\")"
      ],
      "metadata": {
        "colab": {
          "base_uri": "https://localhost:8080/"
        },
        "id": "Ol85JTT1x4nm",
        "outputId": "bdd4e631-762d-44ec-e887-325b61895efb"
      },
      "execution_count": 27,
      "outputs": [
        {
          "output_type": "stream",
          "name": "stdout",
          "text": [
            "Digite valor a:5\n",
            "Digite valor b:6\n",
            "Digite valor c:5\n",
            "O menor valor é 5.0\n"
          ]
        }
      ]
    }
  ]
}