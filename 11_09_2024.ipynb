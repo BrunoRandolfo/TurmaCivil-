{
  "nbformat": 4,
  "nbformat_minor": 0,
  "metadata": {
    "colab": {
      "provenance": [],
      "authorship_tag": "ABX9TyPg2+9q5p5EA4hUVYfzD7Xz",
      "include_colab_link": true
    },
    "kernelspec": {
      "name": "python3",
      "display_name": "Python 3"
    },
    "language_info": {
      "name": "python"
    }
  },
  "cells": [
    {
      "cell_type": "markdown",
      "metadata": {
        "id": "view-in-github",
        "colab_type": "text"
      },
      "source": [
        "<a href=\"https://colab.research.google.com/github/BrunoRandolfo/TurmaCivil-/blob/main/11_09_2024.ipynb\" target=\"_parent\"><img src=\"https://colab.research.google.com/assets/colab-badge.svg\" alt=\"Open In Colab\"/></a>"
      ]
    },
    {
      "cell_type": "code",
      "execution_count": null,
      "metadata": {
        "id": "o0ONWc5EhNVM"
      },
      "outputs": [],
      "source": []
    },
    {
      "cell_type": "markdown",
      "source": [
        "EXERCICIO 3\n",
        "\n",
        "```\n",
        "# Isto está formatado como código\n",
        "```\n",
        "\n"
      ],
      "metadata": {
        "id": "5gYVns9njnl6"
      }
    },
    {
      "cell_type": "code",
      "source": [
        "# Solicita ao usuário que insira um número\n",
        "numero - int(input(\"Digite um número inteiro \"))\n",
        "\n",
        "#verifica se o númeroo é par ou impar\n",
        "if numero % 2 == 0:\n",
        "  print(f\"0 número (numero) é par.\")\n",
        "else:\n",
        "  print(f\"O número {numero} é impar.\")"
      ],
      "metadata": {
        "colab": {
          "base_uri": "https://localhost:8080/"
        },
        "id": "MpwWrr48oc7V",
        "outputId": "1373e0ea-3534-4232-e012-f7390119a84b"
      },
      "execution_count": 10,
      "outputs": [
        {
          "output_type": "stream",
          "name": "stdout",
          "text": [
            "Digite um número inteiro 5\n",
            "O número 5.0 é impar.\n"
          ]
        }
      ]
    },
    {
      "cell_type": "markdown",
      "source": [
        "EXERCICIO 4\n"
      ],
      "metadata": {
        "id": "iQtl1txQqm0Y"
      }
    },
    {
      "cell_type": "code",
      "source": [
        "import math\n",
        "\n",
        "#s Solicita ao usuário que insira um número\n",
        "numero = float(input(\"Digite um número \"))\n",
        "\n",
        "# Verifica se o número é maior ou igual a zero\n",
        "if numero >- 0:\n",
        "  raiz_quadrada = math.sqrt(numero)\n",
        "  print(f\"A raiz quadrada de {numero} é {raiz_quadrada:.2f}\")\n",
        "else:\n",
        "  print(\"O número deve ser maior ou igual a zero.\")"
      ],
      "metadata": {
        "colab": {
          "base_uri": "https://localhost:8080/"
        },
        "id": "1kB_lQkJpQFM",
        "outputId": "b90782a2-0327-4d8f-e2cf-869a1e62f481"
      },
      "execution_count": 9,
      "outputs": [
        {
          "output_type": "stream",
          "name": "stdout",
          "text": [
            "Digite um número 5\n",
            "A raiz quadrada de 5.0 é 2.24\n"
          ]
        }
      ]
    },
    {
      "cell_type": "code",
      "source": [
        "EXERCICIO 5"
      ],
      "metadata": {
        "id": "hiyx5Wbnqs9Z"
      },
      "execution_count": null,
      "outputs": []
    },
    {
      "cell_type": "code",
      "source": [
        "# Solicita ao usuário que insira o comprimento e a largura da camiseta\n",
        "comprimento = float(input(\"Digite o comprimento da camiseta em centimetros: \"))\n",
        "largura = float(input(\"Digite a largura da camiseta em centimetros \"))\n",
        "\n",
        "# Determine o tamanho da camiseta com base no comprimeto e largura\n",
        "if comprimento <= 60 and largura <= 45:\n",
        "  tamanho = \"pp\"\n",
        "elif comprimento <= 65 and largura <= 48:\n",
        "  tamanho = \"p\"\n",
        "elif comprimento <= 70 and largura <= 51:\n",
        "  tamanho = \"M\"\n",
        "elif compimento <= 75 and largura <= 54:\n",
        "  tamanho = \"G\"\n",
        "elif comprimento <= 80 and largura <=57:\n",
        "    tamanho = \"GG\"\n",
        "else:\n",
        "  tamanho = \"XGG\"\n",
        "\n",
        "# Exite o tamanho da camiseta\n",
        "print(f\"O tamanho da camiseta é {tamanho}.\")\n"
      ],
      "metadata": {
        "colab": {
          "base_uri": "https://localhost:8080/"
        },
        "id": "OFtnPksoshuJ",
        "outputId": "114d0971-dae8-432b-931a-2aaab4dde9cc"
      },
      "execution_count": 18,
      "outputs": [
        {
          "output_type": "stream",
          "name": "stdout",
          "text": [
            "Digite o comprimento da camiseta em centimetros: 50\n",
            "Digite a largura da camiseta em centimetros 50\n",
            "O tamanho da camiseta é M.\n"
          ]
        }
      ]
    }
  ]
}