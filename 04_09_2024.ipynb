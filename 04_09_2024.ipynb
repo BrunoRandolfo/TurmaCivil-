{
  "nbformat": 4,
  "nbformat_minor": 0,
  "metadata": {
    "colab": {
      "provenance": [],
      "authorship_tag": "ABX9TyNJS3dybtruf2LHx8eFbCfR",
      "include_colab_link": true
    },
    "kernelspec": {
      "name": "python3",
      "display_name": "Python 3"
    },
    "language_info": {
      "name": "python"
    }
  },
  "cells": [
    {
      "cell_type": "markdown",
      "metadata": {
        "id": "view-in-github",
        "colab_type": "text"
      },
      "source": [
        "<a href=\"https://colab.research.google.com/github/BrunoRandolfo/TurmaCivil-/blob/main/04_09_2024.ipynb\" target=\"_parent\"><img src=\"https://colab.research.google.com/assets/colab-badge.svg\" alt=\"Open In Colab\"/></a>"
      ]
    },
    {
      "cell_type": "code",
      "execution_count": null,
      "metadata": {
        "id": "3ffR1LSveNDQ"
      },
      "outputs": [],
      "source": []
    },
    {
      "cell_type": "markdown",
      "source": [
        "EXERCICIO 2 - Conversão polegadas para milimetros\n"
      ],
      "metadata": {
        "id": "2pauniiQhQgx"
      }
    },
    {
      "cell_type": "code",
      "source": [
        "p = float(input(\"digite valor de polegadas : \"))\n",
        "mm = p*25.4\n",
        "print(\"valor em milimetros: \", mm)\n",
        "\n"
      ],
      "metadata": {
        "colab": {
          "base_uri": "https://localhost:8080/"
        },
        "id": "ZLSPpCaahUgB",
        "outputId": "19087e38-b67d-4d0c-b8b7-39552e2aee00"
      },
      "execution_count": 4,
      "outputs": [
        {
          "output_type": "stream",
          "name": "stdout",
          "text": [
            "digite valor de polegadas : 5\n",
            "valor em milimetros:  127.0\n"
          ]
        }
      ]
    },
    {
      "cell_type": "markdown",
      "source": [
        "EXERCICIO 5 - CALCULO DE VOLUME ESFERA\n"
      ],
      "metadata": {
        "id": "SdO087jGkw5x"
      }
    },
    {
      "cell_type": "code",
      "source": [
        "from math import pi\n",
        "r = float(input((\"digite raio:\")))\n",
        "v = (4/3)*pi*r**3\n",
        "print(\"volume da esfera: \", v)"
      ],
      "metadata": {
        "colab": {
          "base_uri": "https://localhost:8080/"
        },
        "id": "ZOFOiS5Zk5WC",
        "outputId": "791ecc62-5c05-4aa8-ba42-e048e6641803"
      },
      "execution_count": 6,
      "outputs": [
        {
          "output_type": "stream",
          "name": "stdout",
          "text": [
            "digite raio:5\n",
            "volume da esfera:  523.5987755982989\n"
          ]
        }
      ]
    },
    {
      "cell_type": "markdown",
      "source": [
        "EXERCICIO 6 - CALCULO DE CONVERSÃO EM RADIANOS\n"
      ],
      "metadata": {
        "id": "Nl19amUGoPxr"
      }
    },
    {
      "cell_type": "code",
      "source": [
        "from math import pi\n",
        "vgraus = float(input(\"digite angulo em graus: \"))\n",
        "vrad =(vgraus*pi)/180\n",
        "print(vrad)"
      ],
      "metadata": {
        "colab": {
          "base_uri": "https://localhost:8080/"
        },
        "id": "U8FdUOL1ogB0",
        "outputId": "fd8bbf35-e8e3-475f-f08b-d9eb7d42ca59"
      },
      "execution_count": 10,
      "outputs": [
        {
          "output_type": "stream",
          "name": "stdout",
          "text": [
            "digite angulo em graus: 30\n",
            "0.5235987755982988\n"
          ]
        }
      ]
    },
    {
      "cell_type": "markdown",
      "source": [
        "EXERCICIO DE CONVERSÃO EM GRAUS\n"
      ],
      "metadata": {
        "id": "c6ncS-h1rJ8n"
      }
    },
    {
      "cell_type": "code",
      "source": [
        "from math import pi\n",
        "vrad = float(input(\"digite angulo em rad\"))\n",
        "vgraus = (vrad*pi)/180\n",
        "print(vgraus)\n",
        "\n"
      ],
      "metadata": {
        "colab": {
          "base_uri": "https://localhost:8080/"
        },
        "id": "FoQUpNofrPH_",
        "outputId": "f86c6ca3-0241-4366-d9f8-45014f3a04e5"
      },
      "execution_count": 15,
      "outputs": [
        {
          "output_type": "stream",
          "name": "stdout",
          "text": [
            "digite angulo em rad60\n",
            "1.0471975511965976\n"
          ]
        }
      ]
    },
    {
      "cell_type": "markdown",
      "source": [
        "EXERCICIO - CONVERSÃO EM GRADOS\n"
      ],
      "metadata": {
        "id": "u8jf6ZXrsJtu"
      }
    },
    {
      "cell_type": "code",
      "source": [
        "from math import pi\n",
        "vrad = float(input(\"digite valor em rad\"))\n",
        "vgrados = (vrad*400/(2*pi))\n",
        "vgrados"
      ],
      "metadata": {
        "colab": {
          "base_uri": "https://localhost:8080/"
        },
        "id": "oQw_PZCnsjUh",
        "outputId": "1d5be02d-d4b1-4872-c76f-d8965d2377b3"
      },
      "execution_count": 19,
      "outputs": [
        {
          "name": "stdout",
          "output_type": "stream",
          "text": [
            "digite valor em rad60\n"
          ]
        },
        {
          "output_type": "execute_result",
          "data": {
            "text/plain": [
              "3819.7186342054883"
            ]
          },
          "metadata": {},
          "execution_count": 19
        }
      ]
    }
  ]
}